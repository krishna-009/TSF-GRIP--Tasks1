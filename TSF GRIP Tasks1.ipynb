{
 "cells": [
  {
   "cell_type": "markdown",
   "id": "c9e52215",
   "metadata": {},
   "source": [
    "<h1><center><font color='indigo'>GRIP TASK #1 </font></center></h1>\n",
    "<center><h2 style = \"color : Black\"> Prediction using Supervised Machine Learning </h2></center>\n",
    "<center>In this notebook I am using Pyhton sclkit-Learn library for machine learning to implement simple linear regression funtions.</center>"
   ]
  },
  {
   "cell_type": "markdown",
   "id": "a8755c78",
   "metadata": {},
   "source": [
    "# <font color='black'>Domain : Data Science and Business Analytics #GRIPAUGUST21</font>\n",
    "\n",
    "## Intern @ The Sparks Foundation\n",
    "\n",
    "### <font color='black'>Author : Krishna Sharma</font>\n",
    "\n",
    "### <font color='black'>Problem Statement :</font>\n",
    "- <b>Using the provided dataset predict score for a student who studies for 9.25hrs/day</b>\n",
    "- <b>In this regression task, we will predict the percentage of marks that a student is expected to score based upon the number of hours they studied.</b>\n",
    "\n",
    "\n",
    "### <font color='black'>Dataset is provided <a href='http://bit.ly/w-data'><b>Here</b></a></font>\n"
   ]
  },
  {
   "cell_type": "markdown",
   "id": "d32586ed",
   "metadata": {},
   "source": [
    "### Suppressing Warnings..."
   ]
  },
  {
   "cell_type": "code",
   "execution_count": 1,
   "id": "3ee44157",
   "metadata": {},
   "outputs": [],
   "source": [
    "import warnings\n",
    "warnings.filterwarnings('ignore')"
   ]
  },
  {
   "cell_type": "markdown",
   "id": "a9364f7c",
   "metadata": {},
   "source": [
    "### Import required libraries\n",
    "Let's import some libraries to get started!"
   ]
  },
  {
   "cell_type": "code",
   "execution_count": 2,
   "id": "2804b3b8",
   "metadata": {},
   "outputs": [],
   "source": [
    "import numpy as np   # working with arrays & for scientific computing..\n",
    "import pandas as pd   # for data manipulation and analysis..\n",
    "import seaborn as sns  # Use for making statistical graphics..\n",
    "import matplotlib.pyplot as plt  # for Data visualization and graphical plotting\n",
    "\n",
    "from sklearn import linear_model\n",
    "from sklearn.linear_model import LinearRegression"
   ]
  },
  {
   "cell_type": "markdown",
   "id": "8ff8115a",
   "metadata": {},
   "source": [
    "### Load the Data from remote URL Source."
   ]
  },
  {
   "cell_type": "code",
   "execution_count": 3,
   "id": "67c9c642",
   "metadata": {},
   "outputs": [
    {
     "name": "stdout",
     "output_type": "stream",
     "text": [
      "Importing Data Successfully..!!\n"
     ]
    }
   ],
   "source": [
    "url = \"http://bit.ly/w-data\"\n",
    "student_data = pd.read_csv(url)\n",
    "print(\"Importing Data Successfully..!!\")"
   ]
  },
  {
   "cell_type": "markdown",
   "id": "b0e25574",
   "metadata": {},
   "source": [
    "### Display Top 10 Rows of The Dataset"
   ]
  },
  {
   "cell_type": "code",
   "execution_count": 4,
   "id": "8abc4876",
   "metadata": {
    "scrolled": true
   },
   "outputs": [
    {
     "data": {
      "text/html": [
       "<div>\n",
       "<style scoped>\n",
       "    .dataframe tbody tr th:only-of-type {\n",
       "        vertical-align: middle;\n",
       "    }\n",
       "\n",
       "    .dataframe tbody tr th {\n",
       "        vertical-align: top;\n",
       "    }\n",
       "\n",
       "    .dataframe thead th {\n",
       "        text-align: right;\n",
       "    }\n",
       "</style>\n",
       "<table border=\"1\" class=\"dataframe\">\n",
       "  <thead>\n",
       "    <tr style=\"text-align: right;\">\n",
       "      <th></th>\n",
       "      <th>Hours</th>\n",
       "      <th>Scores</th>\n",
       "    </tr>\n",
       "  </thead>\n",
       "  <tbody>\n",
       "    <tr>\n",
       "      <th>0</th>\n",
       "      <td>2.5</td>\n",
       "      <td>21</td>\n",
       "    </tr>\n",
       "    <tr>\n",
       "      <th>1</th>\n",
       "      <td>5.1</td>\n",
       "      <td>47</td>\n",
       "    </tr>\n",
       "    <tr>\n",
       "      <th>2</th>\n",
       "      <td>3.2</td>\n",
       "      <td>27</td>\n",
       "    </tr>\n",
       "    <tr>\n",
       "      <th>3</th>\n",
       "      <td>8.5</td>\n",
       "      <td>75</td>\n",
       "    </tr>\n",
       "    <tr>\n",
       "      <th>4</th>\n",
       "      <td>3.5</td>\n",
       "      <td>30</td>\n",
       "    </tr>\n",
       "    <tr>\n",
       "      <th>5</th>\n",
       "      <td>1.5</td>\n",
       "      <td>20</td>\n",
       "    </tr>\n",
       "    <tr>\n",
       "      <th>6</th>\n",
       "      <td>9.2</td>\n",
       "      <td>88</td>\n",
       "    </tr>\n",
       "    <tr>\n",
       "      <th>7</th>\n",
       "      <td>5.5</td>\n",
       "      <td>60</td>\n",
       "    </tr>\n",
       "    <tr>\n",
       "      <th>8</th>\n",
       "      <td>8.3</td>\n",
       "      <td>81</td>\n",
       "    </tr>\n",
       "    <tr>\n",
       "      <th>9</th>\n",
       "      <td>2.7</td>\n",
       "      <td>25</td>\n",
       "    </tr>\n",
       "  </tbody>\n",
       "</table>\n",
       "</div>"
      ],
      "text/plain": [
       "   Hours  Scores\n",
       "0    2.5      21\n",
       "1    5.1      47\n",
       "2    3.2      27\n",
       "3    8.5      75\n",
       "4    3.5      30\n",
       "5    1.5      20\n",
       "6    9.2      88\n",
       "7    5.5      60\n",
       "8    8.3      81\n",
       "9    2.7      25"
      ]
     },
     "execution_count": 4,
     "metadata": {},
     "output_type": "execute_result"
    }
   ],
   "source": [
    "student_data.head(10)"
   ]
  },
  {
   "cell_type": "markdown",
   "id": "9a573873",
   "metadata": {},
   "source": [
    "### Check Last 5 Rows of The Dataset"
   ]
  },
  {
   "cell_type": "code",
   "execution_count": 5,
   "id": "c89260e2",
   "metadata": {
    "scrolled": true
   },
   "outputs": [
    {
     "data": {
      "text/html": [
       "<div>\n",
       "<style scoped>\n",
       "    .dataframe tbody tr th:only-of-type {\n",
       "        vertical-align: middle;\n",
       "    }\n",
       "\n",
       "    .dataframe tbody tr th {\n",
       "        vertical-align: top;\n",
       "    }\n",
       "\n",
       "    .dataframe thead th {\n",
       "        text-align: right;\n",
       "    }\n",
       "</style>\n",
       "<table border=\"1\" class=\"dataframe\">\n",
       "  <thead>\n",
       "    <tr style=\"text-align: right;\">\n",
       "      <th></th>\n",
       "      <th>Hours</th>\n",
       "      <th>Scores</th>\n",
       "    </tr>\n",
       "  </thead>\n",
       "  <tbody>\n",
       "    <tr>\n",
       "      <th>20</th>\n",
       "      <td>2.7</td>\n",
       "      <td>30</td>\n",
       "    </tr>\n",
       "    <tr>\n",
       "      <th>21</th>\n",
       "      <td>4.8</td>\n",
       "      <td>54</td>\n",
       "    </tr>\n",
       "    <tr>\n",
       "      <th>22</th>\n",
       "      <td>3.8</td>\n",
       "      <td>35</td>\n",
       "    </tr>\n",
       "    <tr>\n",
       "      <th>23</th>\n",
       "      <td>6.9</td>\n",
       "      <td>76</td>\n",
       "    </tr>\n",
       "    <tr>\n",
       "      <th>24</th>\n",
       "      <td>7.8</td>\n",
       "      <td>86</td>\n",
       "    </tr>\n",
       "  </tbody>\n",
       "</table>\n",
       "</div>"
      ],
      "text/plain": [
       "    Hours  Scores\n",
       "20    2.7      30\n",
       "21    4.8      54\n",
       "22    3.8      35\n",
       "23    6.9      76\n",
       "24    7.8      86"
      ]
     },
     "execution_count": 5,
     "metadata": {},
     "output_type": "execute_result"
    }
   ],
   "source": [
    "student_data.tail()"
   ]
  },
  {
   "cell_type": "markdown",
   "id": "57a7f82f",
   "metadata": {},
   "source": [
    "### Find Shape of Our Dataset (Number of Rows And Number of Columns)"
   ]
  },
  {
   "cell_type": "code",
   "execution_count": 6,
   "id": "149cfcdb",
   "metadata": {},
   "outputs": [
    {
     "data": {
      "text/plain": [
       "(25, 2)"
      ]
     },
     "execution_count": 6,
     "metadata": {},
     "output_type": "execute_result"
    }
   ],
   "source": [
    "student_data.shape"
   ]
  },
  {
   "cell_type": "code",
   "execution_count": 7,
   "id": "9135d465",
   "metadata": {},
   "outputs": [
    {
     "name": "stdout",
     "output_type": "stream",
     "text": [
      "Number of Rows: 25\n",
      "Number of columns: 2\n"
     ]
    }
   ],
   "source": [
    "print('Number of Rows:',student_data.shape[0])\n",
    "print('Number of columns:',student_data.shape[1])"
   ]
  },
  {
   "cell_type": "markdown",
   "id": "aa0975d5",
   "metadata": {},
   "source": [
    "### Getting Information About Our Dataset Like Total Number Rows, Total Number of Columns, Datatypes of Each Column And Memory Requirement."
   ]
  },
  {
   "cell_type": "code",
   "execution_count": 8,
   "id": "3d16fa34",
   "metadata": {},
   "outputs": [
    {
     "name": "stdout",
     "output_type": "stream",
     "text": [
      "<class 'pandas.core.frame.DataFrame'>\n",
      "RangeIndex: 25 entries, 0 to 24\n",
      "Data columns (total 2 columns):\n",
      " #   Column  Non-Null Count  Dtype  \n",
      "---  ------  --------------  -----  \n",
      " 0   Hours   25 non-null     float64\n",
      " 1   Scores  25 non-null     int64  \n",
      "dtypes: float64(1), int64(1)\n",
      "memory usage: 528.0 bytes\n"
     ]
    }
   ],
   "source": [
    "student_data.info()"
   ]
  },
  {
   "cell_type": "markdown",
   "id": "83b48aa3",
   "metadata": {},
   "source": [
    "- As you can see here there are 25 entries & 25 non-null values."
   ]
  },
  {
   "cell_type": "markdown",
   "id": "f32f7076",
   "metadata": {},
   "source": [
    "### Check Missing Values In The Dataset"
   ]
  },
  {
   "cell_type": "code",
   "execution_count": 9,
   "id": "cfe255d5",
   "metadata": {},
   "outputs": [
    {
     "name": "stdout",
     "output_type": "stream",
     "text": [
      "Any missing values? False\n"
     ]
    }
   ],
   "source": [
    "print('Any missing values?',student_data.isnull().values.any())"
   ]
  },
  {
   "cell_type": "markdown",
   "id": "8c91c74d",
   "metadata": {},
   "source": [
    "- Our Data does not contain any Missing Values."
   ]
  },
  {
   "cell_type": "markdown",
   "id": "3d656c6f",
   "metadata": {},
   "source": [
    "### Now let's check SUM of Null values in our Dataset."
   ]
  },
  {
   "cell_type": "code",
   "execution_count": 10,
   "id": "7b0ba08b",
   "metadata": {},
   "outputs": [
    {
     "data": {
      "text/plain": [
       "Hours     0\n",
       "Scores    0\n",
       "dtype: int64"
      ]
     },
     "execution_count": 10,
     "metadata": {},
     "output_type": "execute_result"
    }
   ],
   "source": [
    "student_data.isnull().sum()"
   ]
  },
  {
   "cell_type": "markdown",
   "id": "375fd895",
   "metadata": {},
   "source": [
    "- So, there is no NuLL values data, data cleaning is done Successfully."
   ]
  },
  {
   "cell_type": "markdown",
   "id": "a562cbec",
   "metadata": {},
   "source": [
    "### Get Overall Statistics About The Dataframe"
   ]
  },
  {
   "cell_type": "code",
   "execution_count": 11,
   "id": "84d973ed",
   "metadata": {},
   "outputs": [
    {
     "data": {
      "text/html": [
       "<div>\n",
       "<style scoped>\n",
       "    .dataframe tbody tr th:only-of-type {\n",
       "        vertical-align: middle;\n",
       "    }\n",
       "\n",
       "    .dataframe tbody tr th {\n",
       "        vertical-align: top;\n",
       "    }\n",
       "\n",
       "    .dataframe thead th {\n",
       "        text-align: right;\n",
       "    }\n",
       "</style>\n",
       "<table border=\"1\" class=\"dataframe\">\n",
       "  <thead>\n",
       "    <tr style=\"text-align: right;\">\n",
       "      <th></th>\n",
       "      <th>Hours</th>\n",
       "      <th>Scores</th>\n",
       "    </tr>\n",
       "  </thead>\n",
       "  <tbody>\n",
       "    <tr>\n",
       "      <th>count</th>\n",
       "      <td>25.000000</td>\n",
       "      <td>25.000000</td>\n",
       "    </tr>\n",
       "    <tr>\n",
       "      <th>mean</th>\n",
       "      <td>5.012000</td>\n",
       "      <td>51.480000</td>\n",
       "    </tr>\n",
       "    <tr>\n",
       "      <th>std</th>\n",
       "      <td>2.525094</td>\n",
       "      <td>25.286887</td>\n",
       "    </tr>\n",
       "    <tr>\n",
       "      <th>min</th>\n",
       "      <td>1.100000</td>\n",
       "      <td>17.000000</td>\n",
       "    </tr>\n",
       "    <tr>\n",
       "      <th>25%</th>\n",
       "      <td>2.700000</td>\n",
       "      <td>30.000000</td>\n",
       "    </tr>\n",
       "    <tr>\n",
       "      <th>50%</th>\n",
       "      <td>4.800000</td>\n",
       "      <td>47.000000</td>\n",
       "    </tr>\n",
       "    <tr>\n",
       "      <th>75%</th>\n",
       "      <td>7.400000</td>\n",
       "      <td>75.000000</td>\n",
       "    </tr>\n",
       "    <tr>\n",
       "      <th>max</th>\n",
       "      <td>9.200000</td>\n",
       "      <td>95.000000</td>\n",
       "    </tr>\n",
       "  </tbody>\n",
       "</table>\n",
       "</div>"
      ],
      "text/plain": [
       "           Hours     Scores\n",
       "count  25.000000  25.000000\n",
       "mean    5.012000  51.480000\n",
       "std     2.525094  25.286887\n",
       "min     1.100000  17.000000\n",
       "25%     2.700000  30.000000\n",
       "50%     4.800000  47.000000\n",
       "75%     7.400000  75.000000\n",
       "max     9.200000  95.000000"
      ]
     },
     "execution_count": 11,
     "metadata": {},
     "output_type": "execute_result"
    }
   ],
   "source": [
    "student_data.describe()"
   ]
  },
  {
   "cell_type": "markdown",
   "id": "9f60e0ab",
   "metadata": {},
   "source": [
    "## ANALYZE AND VISUALISING THE DATA."
   ]
  },
  {
   "cell_type": "code",
   "execution_count": 12,
   "id": "16ecf2ac",
   "metadata": {},
   "outputs": [
    {
     "data": {
      "image/png": "[encoded data removed]",
      "text/plain": [
       "<Figure size 432x288 with 1 Axes>"
      ]
     },
     "metadata": {
      "needs_background": "light"
     },
     "output_type": "display_data"
    },
    {
     "name": "stdout",
     "output_type": "stream",
     "text": [
      "           Hours    Scores\n",
      "Hours   1.000000  0.976191\n",
      "Scores  0.976191  1.000000\n"
     ]
    }
   ],
   "source": [
    "sns.regplot(x='Hours', y='Scores', data=student_data)\n",
    "\n",
    "plt.title('Hours Vs Percentage',fontdict={'fontsize':20, 'fontweight':5, 'color':'green'})\n",
    "plt.xlabel('Hours Studied', fontdict={'fontsize':12, 'fontweight':5, 'color':'blue'})\n",
    "plt.ylabel('Percentage Score',fontdict={'fontsize':12,'fontweight':5, 'color':'blue'})\n",
    "\n",
    "plt.show()\n",
    "print(student_data.corr())"
   ]
  },
  {
   "cell_type": "markdown",
   "id": "f1b56139",
   "metadata": {},
   "source": [
    "\n",
    "\n",
    "\n",
    "<b>So, from the above graph, we can clearly see that there is a positive linear relation between the number of HOURS STUDIED & PERCENTAGE SCORE.</b>"
   ]
  },
  {
   "cell_type": "code",
   "execution_count": 13,
   "id": "8b4732a0",
   "metadata": {},
   "outputs": [
    {
     "data": {
      "text/plain": [
       "<AxesSubplot:>"
      ]
     },
     "execution_count": 13,
     "metadata": {},
     "output_type": "execute_result"
    },
    {
     "data": {
      "image/png": "[encoded data removed]",
      "text/plain": [
       "<Figure size 432x288 with 2 Axes>"
      ]
     },
     "metadata": {
      "needs_background": "light"
     },
     "output_type": "display_data"
    }
   ],
   "source": [
    "sns.heatmap(student_data.corr(),annot=True)"
   ]
  },
  {
   "cell_type": "markdown",
   "id": "c4a16fcd",
   "metadata": {},
   "source": [
    "### Now preparing the data."
   ]
  },
  {
   "cell_type": "code",
   "execution_count": 14,
   "id": "f39e3518",
   "metadata": {},
   "outputs": [],
   "source": [
    "# Using iloc function we will divide the data.\n",
    "\n",
    "x = student_data.iloc[:,:-1].values\n",
    "y = student_data.iloc[:,-1].values"
   ]
  },
  {
   "cell_type": "code",
   "execution_count": 15,
   "id": "a78605e2",
   "metadata": {},
   "outputs": [
    {
     "name": "stdout",
     "output_type": "stream",
     "text": [
      "Values of Hours columns :\n",
      " [[2.5]\n",
      " [5.1]\n",
      " [3.2]\n",
      " [8.5]\n",
      " [3.5]\n",
      " [1.5]\n",
      " [9.2]\n",
      " [5.5]\n",
      " [8.3]\n",
      " [2.7]\n",
      " [7.7]\n",
      " [5.9]\n",
      " [4.5]\n",
      " [3.3]\n",
      " [1.1]\n",
      " [8.9]\n",
      " [2.5]\n",
      " [1.9]\n",
      " [6.1]\n",
      " [7.4]\n",
      " [2.7]\n",
      " [4.8]\n",
      " [3.8]\n",
      " [6.9]\n",
      " [7.8]]\n"
     ]
    }
   ],
   "source": [
    "print('Values of Hours columns :\\n',x)"
   ]
  },
  {
   "cell_type": "code",
   "execution_count": 16,
   "id": "f6726412",
   "metadata": {},
   "outputs": [
    {
     "name": "stdout",
     "output_type": "stream",
     "text": [
      "Values of Scores columns :\n",
      "\n",
      " [21 47 27 75 30 20 88 60 81 25 85 62 41 42 17 95 30 24 67 69 30 54 35 76\n",
      " 86]\n"
     ]
    }
   ],
   "source": [
    "print('Values of Scores columns :\\n\\n',y)"
   ]
  },
  {
   "cell_type": "markdown",
   "id": "131db92b",
   "metadata": {},
   "source": [
    "#### Train-test Split\n",
    "\n",
    "- I will split the variable into training & testing sets by importing train_test_split from the sklearn model_selection library. It is usually a good practice to keep 80% of the data in train dataset and the rest 20% in test dataset."
   ]
  },
  {
   "cell_type": "markdown",
   "id": "8445dee2",
   "metadata": {},
   "source": [
    "### Splitting the Data."
   ]
  },
  {
   "cell_type": "code",
   "execution_count": 17,
   "id": "d24551d2",
   "metadata": {},
   "outputs": [],
   "source": [
    "from sklearn.model_selection import train_test_split\n",
    "x_train, x_test, y_train, y_test = train_test_split(x, y, train_size = 0.8, random_state = 0)"
   ]
  },
  {
   "cell_type": "code",
   "execution_count": 18,
   "id": "225aecd3",
   "metadata": {},
   "outputs": [
    {
     "data": {
      "text/plain": [
       "(20, 1)"
      ]
     },
     "execution_count": 18,
     "metadata": {},
     "output_type": "execute_result"
    }
   ],
   "source": [
    "x_train.shape"
   ]
  },
  {
   "cell_type": "code",
   "execution_count": 19,
   "id": "046557f1",
   "metadata": {},
   "outputs": [
    {
     "data": {
      "text/plain": [
       "(5, 1)"
      ]
     },
     "execution_count": 19,
     "metadata": {},
     "output_type": "execute_result"
    }
   ],
   "source": [
    "x_test.shape"
   ]
  },
  {
   "cell_type": "code",
   "execution_count": 20,
   "id": "a5c145ef",
   "metadata": {},
   "outputs": [
    {
     "data": {
      "text/plain": [
       "(20,)"
      ]
     },
     "execution_count": 20,
     "metadata": {},
     "output_type": "execute_result"
    }
   ],
   "source": [
    "y_train.shape"
   ]
  },
  {
   "cell_type": "code",
   "execution_count": 21,
   "id": "cb0ce56f",
   "metadata": {},
   "outputs": [
    {
     "data": {
      "text/plain": [
       "(5,)"
      ]
     },
     "execution_count": 21,
     "metadata": {},
     "output_type": "execute_result"
    }
   ],
   "source": [
    "y_test.shape"
   ]
  },
  {
   "cell_type": "markdown",
   "id": "b8bdfc15",
   "metadata": {},
   "source": [
    "### Building a Linear Model"
   ]
  },
  {
   "cell_type": "code",
   "execution_count": 22,
   "id": "97b631cd",
   "metadata": {},
   "outputs": [
    {
     "name": "stdout",
     "output_type": "stream",
     "text": [
      "Training Complete.\n"
     ]
    }
   ],
   "source": [
    "# Representing LinearRegression as reg.\n",
    "reg = LinearRegression()\n",
    "\n",
    "# Fitting the model using lr.fit()\n",
    "reg.fit(x_train, y_train)\n",
    "\n",
    "print('Training Complete.')"
   ]
  },
  {
   "cell_type": "markdown",
   "id": "81e9a1b8",
   "metadata": {},
   "source": [
    "### Testing the Data Accuracy."
   ]
  },
  {
   "cell_type": "code",
   "execution_count": 23,
   "id": "166cc4a3",
   "metadata": {},
   "outputs": [
    {
     "name": "stdout",
     "output_type": "stream",
     "text": [
      "Training Accuracy:  0.9515510725211552\n",
      "Test Accuracy: 0.9454906892105356\n"
     ]
    }
   ],
   "source": [
    "print('Training Accuracy: ',reg.score(x_train, y_train))\n",
    "print('Test Accuracy:',reg.score(x_test, y_test))"
   ]
  },
  {
   "cell_type": "markdown",
   "id": "1d1c9ca9",
   "metadata": {},
   "source": [
    "- so, here i got to know our Training Accuracy is 0.95 & Test Accuracy is 0.94 which is no more different our depleting model is pretty good."
   ]
  },
  {
   "cell_type": "code",
   "execution_count": 24,
   "id": "50b9058f",
   "metadata": {},
   "outputs": [
    {
     "name": "stdout",
     "output_type": "stream",
     "text": [
      "Coefficient =  [9.91065648]\n",
      "Intercept =  2.018160041434683\n"
     ]
    }
   ],
   "source": [
    "print('Coefficient = ', reg.coef_)\n",
    "print('Intercept = ', reg.intercept_)"
   ]
  },
  {
   "cell_type": "markdown",
   "id": "65dcac61",
   "metadata": {},
   "source": [
    "### Plotting the regression line."
   ]
  },
  {
   "cell_type": "code",
   "execution_count": 25,
   "id": "fc14f867",
   "metadata": {},
   "outputs": [
    {
     "data": {
      "image/png": "[encoded data removed]",
      "text/plain": [
       "<Figure size 432x288 with 1 Axes>"
      ]
     },
     "metadata": {
      "needs_background": "light"
     },
     "output_type": "display_data"
    }
   ],
   "source": [
    "line = reg.coef_* x + reg.intercept_\n",
    "\n",
    "# plotting for the test data.\n",
    "plt.scatter(x_train,y_train)\n",
    "plt.plot(x,line,color='green')\n",
    "plt.xlabel('Hours Studied', fontdict={'fontsize':12, 'fontweight':5, 'color':'blue'})\n",
    "plt.ylabel('Percentage Score',fontdict={'fontsize':12,'fontweight':5, 'color':'blue'})\n",
    "plt.show()"
   ]
  },
  {
   "cell_type": "markdown",
   "id": "ad47acfe",
   "metadata": {},
   "source": [
    "### Making the Prediction"
   ]
  },
  {
   "cell_type": "code",
   "execution_count": 26,
   "id": "88b04c40",
   "metadata": {},
   "outputs": [
    {
     "data": {
      "text/plain": [
       "array([[1.5],\n",
       "       [3.2],\n",
       "       [7.4],\n",
       "       [2.5],\n",
       "       [5.9]])"
      ]
     },
     "execution_count": 26,
     "metadata": {},
     "output_type": "execute_result"
    }
   ],
   "source": [
    "x_test"
   ]
  },
  {
   "cell_type": "code",
   "execution_count": 27,
   "id": "a0557d09",
   "metadata": {},
   "outputs": [
    {
     "data": {
      "text/plain": [
       "array([16.88414476, 33.73226078, 75.357018  , 26.79480124, 60.49103328])"
      ]
     },
     "execution_count": 27,
     "metadata": {},
     "output_type": "execute_result"
    }
   ],
   "source": [
    "# Predicting the Data \n",
    "\n",
    "y_test_pred = reg.predict(x_test)\n",
    "y_test_pred"
   ]
  },
  {
   "cell_type": "code",
   "execution_count": 28,
   "id": "a6d78d22",
   "metadata": {},
   "outputs": [
    {
     "data": {
      "text/plain": [
       "array([20, 27, 69, 30, 62], dtype=int64)"
      ]
     },
     "execution_count": 28,
     "metadata": {},
     "output_type": "execute_result"
    }
   ],
   "source": [
    "y_test"
   ]
  },
  {
   "cell_type": "code",
   "execution_count": 29,
   "id": "1fee8d12",
   "metadata": {},
   "outputs": [
    {
     "data": {
      "text/html": [
       "<div>\n",
       "<style scoped>\n",
       "    .dataframe tbody tr th:only-of-type {\n",
       "        vertical-align: middle;\n",
       "    }\n",
       "\n",
       "    .dataframe tbody tr th {\n",
       "        vertical-align: top;\n",
       "    }\n",
       "\n",
       "    .dataframe thead th {\n",
       "        text-align: right;\n",
       "    }\n",
       "</style>\n",
       "<table border=\"1\" class=\"dataframe\">\n",
       "  <thead>\n",
       "    <tr style=\"text-align: right;\">\n",
       "      <th></th>\n",
       "      <th>Hours</th>\n",
       "      <th>Predicted Scores</th>\n",
       "    </tr>\n",
       "  </thead>\n",
       "  <tbody>\n",
       "    <tr>\n",
       "      <th>0</th>\n",
       "      <td>1.5</td>\n",
       "      <td>16.884145</td>\n",
       "    </tr>\n",
       "    <tr>\n",
       "      <th>1</th>\n",
       "      <td>3.2</td>\n",
       "      <td>33.732261</td>\n",
       "    </tr>\n",
       "    <tr>\n",
       "      <th>2</th>\n",
       "      <td>7.4</td>\n",
       "      <td>75.357018</td>\n",
       "    </tr>\n",
       "    <tr>\n",
       "      <th>3</th>\n",
       "      <td>2.5</td>\n",
       "      <td>26.794801</td>\n",
       "    </tr>\n",
       "    <tr>\n",
       "      <th>4</th>\n",
       "      <td>5.9</td>\n",
       "      <td>60.491033</td>\n",
       "    </tr>\n",
       "  </tbody>\n",
       "</table>\n",
       "</div>"
      ],
      "text/plain": [
       "   Hours  Predicted Scores\n",
       "0    1.5         16.884145\n",
       "1    3.2         33.732261\n",
       "2    7.4         75.357018\n",
       "3    2.5         26.794801\n",
       "4    5.9         60.491033"
      ]
     },
     "execution_count": 29,
     "metadata": {},
     "output_type": "execute_result"
    }
   ],
   "source": [
    "prediction = pd.DataFrame({'Hours':[i[0] for i in x_test], 'Predicted Scores': [k for k in y_test_pred]})\n",
    "prediction"
   ]
  },
  {
   "cell_type": "markdown",
   "id": "3a1b6f84",
   "metadata": {},
   "source": [
    "### Comparing the actual & Predicted Data"
   ]
  },
  {
   "cell_type": "code",
   "execution_count": 30,
   "id": "b3bc2985",
   "metadata": {},
   "outputs": [
    {
     "data": {
      "text/html": [
       "<div>\n",
       "<style scoped>\n",
       "    .dataframe tbody tr th:only-of-type {\n",
       "        vertical-align: middle;\n",
       "    }\n",
       "\n",
       "    .dataframe tbody tr th {\n",
       "        vertical-align: top;\n",
       "    }\n",
       "\n",
       "    .dataframe thead th {\n",
       "        text-align: right;\n",
       "    }\n",
       "</style>\n",
       "<table border=\"1\" class=\"dataframe\">\n",
       "  <thead>\n",
       "    <tr style=\"text-align: right;\">\n",
       "      <th></th>\n",
       "      <th>Actual</th>\n",
       "      <th>Predicted</th>\n",
       "    </tr>\n",
       "  </thead>\n",
       "  <tbody>\n",
       "    <tr>\n",
       "      <th>0</th>\n",
       "      <td>20</td>\n",
       "      <td>16.884145</td>\n",
       "    </tr>\n",
       "    <tr>\n",
       "      <th>1</th>\n",
       "      <td>27</td>\n",
       "      <td>33.732261</td>\n",
       "    </tr>\n",
       "    <tr>\n",
       "      <th>2</th>\n",
       "      <td>69</td>\n",
       "      <td>75.357018</td>\n",
       "    </tr>\n",
       "    <tr>\n",
       "      <th>3</th>\n",
       "      <td>30</td>\n",
       "      <td>26.794801</td>\n",
       "    </tr>\n",
       "    <tr>\n",
       "      <th>4</th>\n",
       "      <td>62</td>\n",
       "      <td>60.491033</td>\n",
       "    </tr>\n",
       "  </tbody>\n",
       "</table>\n",
       "</div>"
      ],
      "text/plain": [
       "   Actual  Predicted\n",
       "0      20  16.884145\n",
       "1      27  33.732261\n",
       "2      69  75.357018\n",
       "3      30  26.794801\n",
       "4      62  60.491033"
      ]
     },
     "execution_count": 30,
     "metadata": {},
     "output_type": "execute_result"
    }
   ],
   "source": [
    "df = pd.DataFrame({'Actual':y_test, 'Predicted':y_test_pred})\n",
    "df"
   ]
  },
  {
   "cell_type": "markdown",
   "id": "6658c027",
   "metadata": {},
   "source": [
    "### Model Evaluation"
   ]
  },
  {
   "cell_type": "code",
   "execution_count": 31,
   "id": "bd62eb63",
   "metadata": {},
   "outputs": [
    {
     "name": "stdout",
     "output_type": "stream",
     "text": [
      "Mean Absolute Error: 4.183859899002975\n",
      "Mean Squared Error: 21.5987693072174\n",
      "Root Mean Squared Error: 4.6474476121003665\n"
     ]
    }
   ],
   "source": [
    "# Evaluating the preformance of model\n",
    "\n",
    "from sklearn import metrics\n",
    "\n",
    "print('Mean Absolute Error:',metrics.mean_absolute_error(y_test_pred, y_test))\n",
    "print('Mean Squared Error:',metrics.mean_squared_error(y_test, y_test_pred))\n",
    "print('Root Mean Squared Error:',np.sqrt(metrics.mean_squared_error(y_test, y_test_pred)))"
   ]
  },
  {
   "cell_type": "markdown",
   "id": "ff575a28",
   "metadata": {},
   "source": [
    "### What will be predicted score if a Student Studies for 9.25 hrs/day?"
   ]
  },
  {
   "cell_type": "code",
   "execution_count": 32,
   "id": "1fe328c7",
   "metadata": {},
   "outputs": [
    {
     "name": "stdout",
     "output_type": "stream",
     "text": [
      "Number of hours: 9.25\n",
      "Predicted Scores: 93.69173248737538\n"
     ]
    }
   ],
   "source": [
    "hours = 9.25\n",
    "own_pred = reg.predict([[hours]])\n",
    "\n",
    "print('Number of hours: {}'.format(hours))\n",
    "print('Predicted Scores: {}'.format(own_pred[0]))"
   ]
  },
  {
   "cell_type": "markdown",
   "id": "0f29c114",
   "metadata": {},
   "source": [
    "# Conclusion :-\n",
    "<h3><font color='green'>According to the regression model if a student studies for 9.25 hours a day he/she is likely to score 93.69 marks.</font></h3>\n"
   ]
  },
  {
   "cell_type": "markdown",
   "id": "3467a9e2",
   "metadata": {},
   "source": [
    " # <center> Thank You....🙂 </center>"
   ]
  },
  {
   "cell_type": "code",
   "execution_count": null,
   "id": "ccd335e3",
   "metadata": {},
   "outputs": [],
   "source": []
  }
 ],
 "metadata": {
  "kernelspec": {
   "display_name": "Python 3",
   "language": "python",
   "name": "python3"
  },
  "language_info": {
   "codemirror_mode": {
    "name": "ipython",
    "version": 3
   },
   "file_extension": ".py",
   "mimetype": "text/x-python",
   "name": "python",
   "nbconvert_exporter": "python",
   "pygments_lexer": "ipython3",
   "version": "3.8.8"
  }
 },
 "nbformat": 4,
 "nbformat_minor": 5
}
